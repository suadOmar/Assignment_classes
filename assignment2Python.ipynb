{
 "cells": [
  {
   "cell_type": "markdown",
   "id": "daff21a7-4044-4f08-aabc-c732d3f2ec0b",
   "metadata": {},
   "source": [
    "### Task 1: Rectangle class: \n",
    "1. Write a Rectangle class in Python language, allowing you to build a rectangle \n",
    "with length and width attributes.\n",
    "2. Create a Perimeter() method to calculate the perimeter of the rectangle and a Area() method to \n",
    "calculate the area of the rectangle.\n",
    "3. Create a method display() that display the length, width, perimeter and area of an object created \n",
    "using an instantiation on rectangle class.\n",
    "4. Create a Parallelepipede child class inheriting from the Rectangle class and with \n",
    "a height attribute and another Volume() method to calculate the volume of the Parallelepiped."
   ]
  },
  {
   "cell_type": "code",
   "execution_count": 75,
   "id": "7d1767da-787c-4667-85a4-e0c33d568cda",
   "metadata": {},
   "outputs": [],
   "source": [
    "class Rectangle:\n",
    "    def __init__(self,l,w):\n",
    "        self.length=l\n",
    "        self.width=w\n",
    "    def Perimeter(self):\n",
    "        perimeter=2*(self.length+self.width)\n",
    "        return perimeter\n",
    "    def Area(self):\n",
    "        area=self.length*self.width\n",
    "        return area\n",
    "    def display(self):\n",
    "        print(\"Rectangle length : \",self.length)\n",
    "        print(\"Rectangle width : \",self.width)\n",
    "        print(\"Rectangle perimeter : \",self.Perimeter())\n",
    "        print(\"Rectangle area : \",self.Area())   \n",
    "class Parallelepipede(Rectangle):\n",
    "    def __init__(self,l,w,h):\n",
    "        Rectangle.__init__(self,l,w)\n",
    "        self.height=h\n",
    "    def Volume(self):\n",
    "        volume=self.length*self.width*self.height\n",
    "        return volume"
   ]
  },
  {
   "cell_type": "code",
   "execution_count": 76,
   "id": "e08472e9-4f4c-4745-967e-03f202ac0e7b",
   "metadata": {},
   "outputs": [],
   "source": [
    "r=Rectangle(2,3)"
   ]
  },
  {
   "cell_type": "code",
   "execution_count": 77,
   "id": "01007144-01a3-4631-9f8c-6ab7195cac75",
   "metadata": {},
   "outputs": [
    {
     "data": {
      "text/plain": [
       "6"
      ]
     },
     "execution_count": 77,
     "metadata": {},
     "output_type": "execute_result"
    }
   ],
   "source": [
    "r.Area()"
   ]
  },
  {
   "cell_type": "code",
   "execution_count": 78,
   "id": "141f2213-a274-4d20-b3e5-63a60c3f4361",
   "metadata": {},
   "outputs": [
    {
     "data": {
      "text/plain": [
       "10"
      ]
     },
     "execution_count": 78,
     "metadata": {},
     "output_type": "execute_result"
    }
   ],
   "source": [
    "r.Perimeter()"
   ]
  },
  {
   "cell_type": "code",
   "execution_count": 79,
   "id": "84f36edb-18b0-4125-973a-8fd2ec31627e",
   "metadata": {},
   "outputs": [
    {
     "name": "stdout",
     "output_type": "stream",
     "text": [
      "Rectangle length :  2\n",
      "Rectangle width :  3\n",
      "Rectangle perimeter :  10\n",
      "Rectangle area :  6\n"
     ]
    }
   ],
   "source": [
    "r.display()"
   ]
  },
  {
   "cell_type": "code",
   "execution_count": 37,
   "id": "7e0cd173-61f0-4647-852f-9689654f9224",
   "metadata": {},
   "outputs": [],
   "source": [
    "p=Parallelepipede(2,3,2)"
   ]
  },
  {
   "cell_type": "code",
   "execution_count": 38,
   "id": "e5b4ec93-0fb9-4429-b9c8-5fea6e1001c9",
   "metadata": {},
   "outputs": [
    {
     "data": {
      "text/plain": [
       "12"
      ]
     },
     "execution_count": 38,
     "metadata": {},
     "output_type": "execute_result"
    }
   ],
   "source": [
    "p.Volume()"
   ]
  },
  {
   "cell_type": "markdown",
   "id": "b0bf6c2d-56c4-4583-8a39-ea7e476cf48c",
   "metadata": {},
   "source": [
    "### Task 2: Person class and child Student class\n",
    "Create a Python class Person with attributes: name and age of type string.\n",
    "1. Create a display() method that displays the name and age of an object created via the Person \n",
    "class.\n",
    "2. Create a child class Student which inherits from the Person class and which also has \n",
    "a section attribute.\n",
    "3. Create a method displayStudent() that displays the name, age and section of an object created \n",
    "via the Student class.\n",
    "4. Create a student object via an instantiation on the Student class and then test the \n",
    "displayStudent method."
   ]
  },
  {
   "cell_type": "code",
   "execution_count": 50,
   "id": "4ce6ef7b-8f74-4bf7-88ca-23a8ef7ffb2c",
   "metadata": {},
   "outputs": [],
   "source": [
    "class Person :\n",
    "    def __init__(self,n,a):\n",
    "        self.name=n\n",
    "        self.age=a\n",
    "    def display(self):\n",
    "        print(\"Name is : \",self.name)\n",
    "        print(\"Age is : \",self.age)\n",
    "class Student(Person):\n",
    "    def __init__(self,n,a,sec):\n",
    "        Person.__init__(self,n,a)\n",
    "        self.section=sec\n",
    "    def displayStudent(self):\n",
    "        print(\"student's name is    : \",self.name)\n",
    "        print(\"student's age is     : \",self.age) \n",
    "        print(\"student's section is : \",self.section)                  "
   ]
  },
  {
   "cell_type": "code",
   "execution_count": 51,
   "id": "03730fc6-e36d-49f1-998c-41bf5008c80e",
   "metadata": {},
   "outputs": [],
   "source": [
    "std=Student(\"ahmed\",20,\"physics\")"
   ]
  },
  {
   "cell_type": "code",
   "execution_count": 52,
   "id": "1bec5c08-771f-492a-b810-bc8b5940d6cf",
   "metadata": {},
   "outputs": [
    {
     "name": "stdout",
     "output_type": "stream",
     "text": [
      "student's name is    :  ahmed\n",
      "student's age is     :  20\n",
      "student's section is :  physics\n"
     ]
    }
   ],
   "source": [
    "std.displayStudent()"
   ]
  },
  {
   "cell_type": "code",
   "execution_count": 53,
   "id": "1a32edd5-7f8e-4686-ba7a-81183d8ec7dc",
   "metadata": {},
   "outputs": [],
   "source": [
    "std2=Student(\"asmaa\",21,\"chemistry\")"
   ]
  },
  {
   "cell_type": "code",
   "execution_count": 54,
   "id": "98860da1-39a4-4451-990d-3d8b8b5dac3a",
   "metadata": {},
   "outputs": [
    {
     "name": "stdout",
     "output_type": "stream",
     "text": [
      "student's name is    :  asmaa\n",
      "student's age is     :  21\n",
      "student's section is :  chemistry\n"
     ]
    }
   ],
   "source": [
    "std2.displayStudent()"
   ]
  },
  {
   "cell_type": "markdown",
   "id": "e8d0c6e1-2cc6-4a58-89ae-cb34a016991a",
   "metadata": {
    "tags": []
   },
   "source": [
    "### Task 3. Computation class \n",
    "1 - Create a Coputation class with a default constructor (without parameters) allowing to perform various \n",
    "calculations on integers numbers.\n",
    "2 - Create a method called Factorial() which allows to calculate the factorial of an integer. Test the \n",
    "method by instantiating the class.\n",
    "3 - Create a method called Sum() allowing to calculate the sum of the first n integers 1 + 2 + 3 + .. +\n",
    "n. Test this method.\n",
    "4 - Create a method called testPrim() in the Calculation class to test the primality of a given integer. Test \n",
    "this method.\n",
    "4 - Create a method called testPrims() allowing to test if two numbers are prime between them.\n",
    "5 - Create a tableMult() method which creates and displays the multiplication table of a given integer. \n",
    "Then create an allTablesMult() method to display all the integer multiplication tables 1, 2, 3, ..., 9.\n",
    "6 - Create a static listDiv() method that gets all the divisors of a given integer on new list called Ldiv. \n",
    "Create another listDivPrim() method that gets all the prime divisors of a given integer.\n"
   ]
  },
  {
   "cell_type": "code",
   "execution_count": 64,
   "id": "29a27687-f1b9-4515-9161-9343d4679a6f",
   "metadata": {},
   "outputs": [],
   "source": [
    "class Computation():\n",
    "    def __init__(self):\n",
    "        pass \n",
    "    def Factorial(self,num):\n",
    "        if num<=1:\n",
    "            return 1\n",
    "        else:\n",
    "            return Factorial(n-1) + Factorial(n-2)\n",
    "    def  Sum(self,num):\n",
    "        sum_i=0\n",
    "        for i in range(1,num+1):\n",
    "            sum_i+=i\n",
    "        return sum_i    \n",
    "    def testPrime(self,num):\n",
    "        if num>1:\n",
    "            for i in range(2,int(num/2)+1):\n",
    "                if num%i==0:\n",
    "                    print(\"{} is not a prime number\".format(num))\n",
    "                    break\n",
    "            else:\n",
    "                print(\"{} is a prime number\".format(num))\n",
    "        else:\n",
    "              print(\"{} is not a prime number\".format(num))\n",
    "                \n",
    "    def testPrims(self,num1,num2):\n",
    "        return testPrime(num1),testPrime(num2)\n",
    "    \n",
    "    def tableMult(self,num):\n",
    "        for i in range (1,13):\n",
    "            mult_result= num*i\n",
    "            print(\"{} X {} = {}\".format(num,i,mult_result))\n",
    "             \n",
    "    def allTablesMult(self):\n",
    "        num=1\n",
    "        while num>=1 and num<=9:\n",
    "            print(\"Multiplication Table {}\".format(num))\n",
    "            for i in range(1,13):\n",
    "                mult_result=num*i\n",
    "                print(\"{} X {} = {}\".format(num,i,mult_result))\n",
    "            print(\"*\"*20)    \n",
    "            num+=1 \n",
    "    def listDiv(self,num):\n",
    "        Ldiv=[]\n",
    "        for i in range(1,num+1):\n",
    "            if num%i==0:\n",
    "                Ldiv.append(i)\n",
    "        return Ldiv  \n",
    "   \n",
    "    def listDivPrime(self,num):\n",
    "        Ldiv=[]\n",
    "        for i in range(1,num+1):\n",
    "            if num%i==0 and self.listDiv(num):\n",
    "                Ldiv.append(i)\n",
    "        return Ldiv        "
   ]
  },
  {
   "cell_type": "code",
   "execution_count": 65,
   "id": "f13e18d4-addc-487d-b94c-24526f182b5d",
   "metadata": {},
   "outputs": [
    {
     "data": {
      "text/plain": [
       "[1, 37]"
      ]
     },
     "execution_count": 65,
     "metadata": {},
     "output_type": "execute_result"
    }
   ],
   "source": [
    "c=Computation()\n",
    "c.listDivPrime(37)"
   ]
  },
  {
   "cell_type": "code",
   "execution_count": 66,
   "id": "adbde479-53dd-4df7-9998-95c0b89b117f",
   "metadata": {},
   "outputs": [
    {
     "data": {
      "text/plain": [
       "15"
      ]
     },
     "execution_count": 66,
     "metadata": {},
     "output_type": "execute_result"
    }
   ],
   "source": [
    "c.Sum(5)"
   ]
  },
  {
   "cell_type": "code",
   "execution_count": 67,
   "id": "bc03e26d-ee6a-4db2-acea-97612b04d0a0",
   "metadata": {},
   "outputs": [
    {
     "name": "stdout",
     "output_type": "stream",
     "text": [
      "11 is a prime number\n"
     ]
    }
   ],
   "source": [
    "c.testPrime(11)"
   ]
  },
  {
   "cell_type": "code",
   "execution_count": 68,
   "id": "9ea12706-8c3d-447f-b8ee-c218c9af3263",
   "metadata": {},
   "outputs": [
    {
     "name": "stdout",
     "output_type": "stream",
     "text": [
      "4 X 1 = 4\n",
      "4 X 2 = 8\n",
      "4 X 3 = 12\n",
      "4 X 4 = 16\n",
      "4 X 5 = 20\n",
      "4 X 6 = 24\n",
      "4 X 7 = 28\n",
      "4 X 8 = 32\n",
      "4 X 9 = 36\n",
      "4 X 10 = 40\n",
      "4 X 11 = 44\n",
      "4 X 12 = 48\n"
     ]
    }
   ],
   "source": [
    "c.tableMult(4)"
   ]
  }
 ],
 "metadata": {
  "kernelspec": {
   "display_name": "Python 3 (ipykernel)",
   "language": "python",
   "name": "python3"
  },
  "language_info": {
   "codemirror_mode": {
    "name": "ipython",
    "version": 3
   },
   "file_extension": ".py",
   "mimetype": "text/x-python",
   "name": "python",
   "nbconvert_exporter": "python",
   "pygments_lexer": "ipython3",
   "version": "3.9.13"
  }
 },
 "nbformat": 4,
 "nbformat_minor": 5
}
